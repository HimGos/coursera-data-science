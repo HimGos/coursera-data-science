{
 "cells": [
  {
   "cell_type": "markdown",
   "id": "3c617f2e",
   "metadata": {},
   "source": [
    "# My Jupyter Notebook on IBM Watson Studio"
   ]
  },
  {
   "cell_type": "markdown",
   "id": "3a75559f",
   "metadata": {},
   "source": [
    "**Himanshu Goswami**\n",
    "\n",
    "Data Science 101"
   ]
  },
  {
   "cell_type": "markdown",
   "id": "3061f000",
   "metadata": {},
   "source": [
    "*I am interested in data science because I see it as a power to see the unseen in this evergrowing digital word full of data.*"
   ]
  },
  {
   "cell_type": "markdown",
   "id": "7d0d721b",
   "metadata": {},
   "source": [
    "### The following code prints a star pattern"
   ]
  },
  {
   "cell_type": "code",
   "execution_count": 1,
   "id": "2d5ee532",
   "metadata": {},
   "outputs": [
    {
     "name": "stdout",
     "output_type": "stream",
     "text": [
      "\n",
      "* \n",
      "* * \n",
      "* * * \n",
      "* * * * \n"
     ]
    }
   ],
   "source": [
    "for i in range(5):\n",
    "    print('* ' * i)"
   ]
  },
  {
   "cell_type": "markdown",
   "id": "358475e8",
   "metadata": {},
   "source": [
    "---\n",
    "\n",
    "[Data Science on Wikipedia](https://en.wikipedia.org/wiki/Data_science)\n",
    "\n",
    "---\n",
    "\n",
    "| SQL        | NoSQL      | IDE  |\n",
    "| ---------- |:----------:| -----:|\n",
    "| MySQL      | MongoDB    |PyCharm\n",
    "| PostgreSQL | Cassandra  |VSCode |\n",
    "| OracleDB   | CouchDB    |Spyder |\n",
    "\n",
    "---\n",
    "\n",
    "We can `highlight code` this way.\n",
    "\n",
    "---\n",
    "\n",
    "- Bulleting is ~~impossible~~ possible too."
   ]
  }
 ],
 "metadata": {
  "kernelspec": {
   "display_name": "Python 3 (ipykernel)",
   "language": "python",
   "name": "python3"
  },
  "language_info": {
   "codemirror_mode": {
    "name": "ipython",
    "version": 3
   },
   "file_extension": ".py",
   "mimetype": "text/x-python",
   "name": "python",
   "nbconvert_exporter": "python",
   "pygments_lexer": "ipython3",
   "version": "3.9.12"
  }
 },
 "nbformat": 4,
 "nbformat_minor": 5
}
